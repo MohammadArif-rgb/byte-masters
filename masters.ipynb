from flask import Flask, request, jsonify, send_from_directory
import torch
import tensorflow as tf
from PIL import Image
import numpy as np
import os

app = Flask(__name__)
UPLOAD_FOLDER = 'uploads'
os.makedirs(UPLOAD_FOLDER, exist_ok=True)

# Load Flood Segmentation Model (TensorFlow)
flood_model = tf.keras.models.load_model('flood_segmentation_model.h5')

def segment_flood(image):
    image = image.resize((256, 256))
    image = np.array(image) / 255.0
    image = np.expand_dims(image, axis=0)
    mask = flood_model.predict(image)[0]
    return (mask * 255).astype(np.uint8)

# Load SAR Colouring Model (PyTorch)
class SAR2Optical(torch.nn.Module):
    def __init__(self):
        super(SAR2Optical, self).__init__()
        self.conv = torch.nn.Conv2d(1, 3, kernel_size=3, padding=1)
    def forward(self, x):
        return self.conv(x)

sar_model = SAR2Optical()
sar_model.load_state_dict(torch.load('sar_model.pth'))
sar_model.eval()

def sar_to_optical(image):
    image = image.convert("L")
    image = np.array(image, dtype=np.float32) / 255.0
    image = torch.tensor(image).unsqueeze(0).unsqueeze(0)
    with torch.no_grad():
        output = sar_model(image).squeeze().numpy()
    return (output * 255).astype(np.uint8)

@app.route('/upload', methods=['POST'])
def upload_file():
    if 'file' not in request.files:
        return jsonify({'error': 'No file uploaded'})
    file = request.files['file']
    if file.filename == '':
        return jsonify({'error': 'No selected file'})
    filepath = os.path.join(UPLOAD_FOLDER, file.filename)
    file.save(filepath)
    image = Image.open(filepath)
    
    optical_image = sar_to_optical(image)
    flood_mask = segment_flood(Image.fromarray(optical_image))
    
    optical_path = os.path.join(UPLOAD_FOLDER, 'optical_' + file.filename)
    mask_path = os.path.join(UPLOAD_FOLDER, 'mask_' + file.filename)
    Image.fromarray(optical_image).save(optical_path)
    Image.fromarray(flood_mask).save(mask_path)
    
    return jsonify({'optical': optical_path, 'mask': mask_path})

@app.route('/uploads/<filename>')
def uploaded_file(filename):
    return send_from_directory(UPLOAD_FOLDER, filename)

if __name__ == '__main__':
    app.run(debug=True)
